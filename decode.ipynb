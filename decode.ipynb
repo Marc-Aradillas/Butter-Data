{
 "cells": [
  {
   "cell_type": "markdown",
   "id": "b098bab1-209a-4058-8025-ceb4cbc91a52",
   "metadata": {},
   "source": [
    "  "
   ]
  },
  {
   "cell_type": "code",
   "execution_count": 22,
   "id": "e8a842bb-79ce-4054-b6ab-1650b7a04d6a",
   "metadata": {},
   "outputs": [
    {
     "name": "stdout",
     "output_type": "stream",
     "text": [
      "3 love\n",
      "6 computers\n",
      "2 dogs\n",
      "4 cats\n",
      "1 I\n",
      "5 you\n"
     ]
    }
   ],
   "source": [
    "with open(\"input.txt\", \"r\") as file:\n",
    "    print(file.read())"
   ]
  },
  {
   "cell_type": "markdown",
   "id": "a4ae9e7f-dedc-4c67-881f-b75ada5aabee",
   "metadata": {},
   "source": [
    "  "
   ]
  },
  {
   "cell_type": "markdown",
   "id": "751db7ee-b8a3-4d51-bae8-ec1c0923d542",
   "metadata": {},
   "source": [
    "  "
   ]
  },
  {
   "cell_type": "code",
   "execution_count": 23,
   "id": "63ab6666-ac3a-4c79-98b6-8fd11440a904",
   "metadata": {},
   "outputs": [],
   "source": [
    "with open(\"input.txt\", \"r\") as file:\n",
    "    message_file = file.read()"
   ]
  },
  {
   "cell_type": "markdown",
   "id": "638d200f-2fca-4dbd-b731-bdb140bcf24b",
   "metadata": {},
   "source": [
    "  "
   ]
  },
  {
   "cell_type": "markdown",
   "id": "3d288aa0-25ee-4833-87e1-e7822cdc256d",
   "metadata": {},
   "source": [
    "  "
   ]
  },
  {
   "cell_type": "code",
   "execution_count": 47,
   "id": "c141768f-7219-4759-835e-b7b12baf6b8d",
   "metadata": {},
   "outputs": [],
   "source": [
    "def decode(message_file):\n",
    "    # Read in contents of the file\n",
    "    with open('input.txt', \"r\") as file:\n",
    "        lines = file.readlines()\n",
    "\n",
    "    # Initialize dictionary that store words by their respective numbers\n",
    "    word_dict = {}\n",
    "\n",
    "    # Parse the lines and build the word dictionary\n",
    "    for line in lines:\n",
    "        parts = line.split()\n",
    "        number = int(parts[0])\n",
    "        word = \" \".join(parts[1:])\n",
    "        \n",
    "        # Store words in the dictionary using their corresponding numbers\n",
    "        word_dict[number] = word\n",
    "\n",
    "    # assign a variable to store the decoded message\n",
    "    decoded_message = \"\"\n",
    "\n",
    "    # Decode the message using words corresponding to numbers 1, 3, and 6\n",
    "    for key in [1, 3, 6]:\n",
    "        if key in word_dict:\n",
    "            decoded_message += word_dict[key] + \" \"\n",
    "\n",
    "    # Return the decoded message\n",
    "    return decoded_message.strip()"
   ]
  },
  {
   "cell_type": "code",
   "execution_count": 48,
   "id": "ef17e11b-3ce7-4e61-8ffb-8597c79590dc",
   "metadata": {},
   "outputs": [
    {
     "data": {
      "text/plain": [
       "'I love computers'"
      ]
     },
     "execution_count": 48,
     "metadata": {},
     "output_type": "execute_result"
    }
   ],
   "source": [
    "decode(message_file)"
   ]
  },
  {
   "cell_type": "code",
   "execution_count": 49,
   "id": "167df8b0-185e-4426-a6d9-0f6575ee9590",
   "metadata": {},
   "outputs": [],
   "source": [
    "def decode(message_file):\n",
    "    # Read in contents of the file\n",
    "    with open('coding_qual_input.txt', \"r\") as file:\n",
    "        lines = file.readlines()\n",
    "\n",
    "    # Initialize dictionary that store words by their respective numbers\n",
    "    word_dict = {}\n",
    "\n",
    "    # Parse the lines and build the word dictionary\n",
    "    for line in lines:\n",
    "        parts = line.split()\n",
    "        number = int(parts[0])\n",
    "        word = \" \".join(parts[1:])\n",
    "        \n",
    "        # Store words in the dictionary using their corresponding numbers\n",
    "        word_dict[number] = word\n",
    "\n",
    "    # assign a variable to store the decoded message\n",
    "    decoded_message = \"\"\n",
    "\n",
    "    # Decode the message using words corresponding to numbers 1, 3, and 6\n",
    "    for key in [1, 3, 6]:\n",
    "        if key in word_dict:\n",
    "            decoded_message += word_dict[key] + \" \"\n",
    "\n",
    "    # Return the decoded message\n",
    "    return decoded_message.strip()"
   ]
  },
  {
   "cell_type": "code",
   "execution_count": 50,
   "id": "20c04e16-0467-4648-a7f8-2d19a4368ae3",
   "metadata": {},
   "outputs": [
    {
     "data": {
      "text/plain": [
       "'down dont nine'"
      ]
     },
     "execution_count": 50,
     "metadata": {},
     "output_type": "execute_result"
    }
   ],
   "source": [
    "decode(message_file)"
   ]
  }
 ],
 "metadata": {
  "kernelspec": {
   "display_name": "Python 3 (ipykernel)",
   "language": "python",
   "name": "python3"
  },
  "language_info": {
   "codemirror_mode": {
    "name": "ipython",
    "version": 3
   },
   "file_extension": ".py",
   "mimetype": "text/x-python",
   "name": "python",
   "nbconvert_exporter": "python",
   "pygments_lexer": "ipython3",
   "version": "3.10.9"
  }
 },
 "nbformat": 4,
 "nbformat_minor": 5
}
