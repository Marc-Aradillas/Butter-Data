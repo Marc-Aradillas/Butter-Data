{
 "cells": [
  {
   "cell_type": "code",
   "execution_count": 1,
   "id": "9bff12c5-4eee-40d0-b1a8-5d7163e2f114",
   "metadata": {},
   "outputs": [],
   "source": [
    "import os\n",
    "\n",
    "import pandas as pd\n",
    "import numpy as np\n",
    "import matplotlib.pyplot as plt\n",
    "import seaborn as sns"
   ]
  },
  {
   "cell_type": "code",
   "execution_count": 2,
   "id": "d94b9f48-598c-4693-9c8a-9226c57405e3",
   "metadata": {},
   "outputs": [],
   "source": [
    "def get_ev_data():\n",
    "    if os.path.isfile('EV_Charging_Stations.csv'):\n",
    "        print('Found file')\n",
    "        # If csv file exists read in data from csv file.\n",
    "        df = pd.read_csv('EV_Charging_Stations.csv', index_col=0)\n",
    "    else:\n",
    "        print('Retrieving file...\\n')\n",
    "        # Read fresh data from db into a dataframe\n",
    "        df = new_telco_data()\n",
    "        # Cache data\n",
    "        df.to_csv('EV_Charging_Stations.csv')\n",
    "        print('\\nFile retrieved.')\n",
    "    return df"
   ]
  },
  {
   "cell_type": "code",
   "execution_count": 3,
   "id": "b6fc4e74-e4fe-41a0-9bcd-a2918357b0fb",
   "metadata": {},
   "outputs": [
    {
     "name": "stdout",
     "output_type": "stream",
     "text": [
      "Found file\n"
     ]
    }
   ],
   "source": [
    "df = get_ev_data()"
   ]
  },
  {
   "cell_type": "code",
   "execution_count": 4,
   "id": "464516eb-0c0b-4d89-8059-20ec93d21c1c",
   "metadata": {},
   "outputs": [
    {
     "name": "stdout",
     "output_type": "stream",
     "text": [
      "<class 'pandas.core.frame.DataFrame'>\n",
      "Float64Index: 2927 entries, -95.372854 to -96.753363\n",
      "Data columns (total 17 columns):\n",
      " #   Column              Non-Null Count  Dtype  \n",
      "---  ------              --------------  -----  \n",
      " 0   Y                   2927 non-null   float64\n",
      " 1   Station_Name        2927 non-null   object \n",
      " 2   City                2927 non-null   object \n",
      " 3   Street_Address      2927 non-null   object \n",
      " 4   ZIP                 2927 non-null   int64  \n",
      " 5   ev_connector_types  2927 non-null   object \n",
      " 6   ev_network          2927 non-null   object \n",
      " 7   ev_network_web      2715 non-null   object \n",
      " 8   Level1_Plugs        2927 non-null   int64  \n",
      " 9   Level2_Plugs        2927 non-null   int64  \n",
      " 10  DCFC_Plugs          2927 non-null   int64  \n",
      " 11  Total_Plugs         2927 non-null   int64  \n",
      " 12  Level2              2927 non-null   object \n",
      " 13  DCFC                2927 non-null   object \n",
      " 14  Tesla               2927 non-null   object \n",
      " 15  recid               2927 non-null   int64  \n",
      " 16  ESRI_OID            2927 non-null   int64  \n",
      "dtypes: float64(1), int64(7), object(9)\n",
      "memory usage: 411.6+ KB\n"
     ]
    }
   ],
   "source": [
    "df.info()"
   ]
  },
  {
   "cell_type": "code",
   "execution_count": 5,
   "id": "80e8b359-2fed-47f3-b5fe-c021d038b7ab",
   "metadata": {},
   "outputs": [
    {
     "data": {
      "text/plain": [
       "(2927, 17)"
      ]
     },
     "execution_count": 5,
     "metadata": {},
     "output_type": "execute_result"
    }
   ],
   "source": [
    "df.shape"
   ]
  },
  {
   "cell_type": "code",
   "execution_count": 6,
   "id": "c12c3729-1091-431b-af28-a09a9951042f",
   "metadata": {},
   "outputs": [],
   "source": [
    "index_values = df.index"
   ]
  },
  {
   "cell_type": "code",
   "execution_count": 7,
   "id": "600de768-bae6-4499-82bc-36a8bc5ae8b2",
   "metadata": {},
   "outputs": [
    {
     "ename": "KeyError",
     "evalue": "Index(['Coordinates'], dtype='object')",
     "output_type": "error",
     "traceback": [
      "\u001b[0;31m---------------------------------------------------------------------------\u001b[0m",
      "\u001b[0;31mKeyError\u001b[0m                                  Traceback (most recent call last)",
      "Cell \u001b[0;32mIn[7], line 16\u001b[0m\n\u001b[1;32m     14\u001b[0m \u001b[38;5;28;01mfor\u001b[39;00m city, group \u001b[38;5;129;01min\u001b[39;00m grouped:\n\u001b[1;32m     15\u001b[0m     num_coordinates \u001b[38;5;241m=\u001b[39m \u001b[38;5;28mlen\u001b[39m(group)\n\u001b[0;32m---> 16\u001b[0m     unique_group \u001b[38;5;241m=\u001b[39m \u001b[43mgroup\u001b[49m\u001b[38;5;241;43m.\u001b[39;49m\u001b[43mdrop_duplicates\u001b[49m\u001b[43m(\u001b[49m\u001b[43msubset\u001b[49m\u001b[38;5;241;43m=\u001b[39;49m\u001b[43m[\u001b[49m\u001b[38;5;124;43m'\u001b[39;49m\u001b[38;5;124;43mCoordinates\u001b[39;49m\u001b[38;5;124;43m'\u001b[39;49m\u001b[43m]\u001b[49m\u001b[43m)\u001b[49m  \u001b[38;5;66;03m# Change 'Y' to 'Coordinates'\u001b[39;00m\n\u001b[1;32m     17\u001b[0m     num_unique_coordinates \u001b[38;5;241m=\u001b[39m \u001b[38;5;28mlen\u001b[39m(unique_group)\n\u001b[1;32m     19\u001b[0m     \u001b[38;5;28mprint\u001b[39m(\u001b[38;5;124mf\u001b[39m\u001b[38;5;124m\"\u001b[39m\u001b[38;5;124mCity: \u001b[39m\u001b[38;5;132;01m{\u001b[39;00mcity\u001b[38;5;132;01m}\u001b[39;00m\u001b[38;5;124m, Number of Unique Coordinates: \u001b[39m\u001b[38;5;132;01m{\u001b[39;00mnum_unique_coordinates\u001b[38;5;132;01m}\u001b[39;00m\u001b[38;5;124m\"\u001b[39m)\n",
      "File \u001b[0;32m/opt/homebrew/anaconda3/lib/python3.10/site-packages/pandas/util/_decorators.py:331\u001b[0m, in \u001b[0;36mdeprecate_nonkeyword_arguments.<locals>.decorate.<locals>.wrapper\u001b[0;34m(*args, **kwargs)\u001b[0m\n\u001b[1;32m    325\u001b[0m \u001b[38;5;28;01mif\u001b[39;00m \u001b[38;5;28mlen\u001b[39m(args) \u001b[38;5;241m>\u001b[39m num_allow_args:\n\u001b[1;32m    326\u001b[0m     warnings\u001b[38;5;241m.\u001b[39mwarn(\n\u001b[1;32m    327\u001b[0m         msg\u001b[38;5;241m.\u001b[39mformat(arguments\u001b[38;5;241m=\u001b[39m_format_argument_list(allow_args)),\n\u001b[1;32m    328\u001b[0m         \u001b[38;5;167;01mFutureWarning\u001b[39;00m,\n\u001b[1;32m    329\u001b[0m         stacklevel\u001b[38;5;241m=\u001b[39mfind_stack_level(),\n\u001b[1;32m    330\u001b[0m     )\n\u001b[0;32m--> 331\u001b[0m \u001b[38;5;28;01mreturn\u001b[39;00m \u001b[43mfunc\u001b[49m\u001b[43m(\u001b[49m\u001b[38;5;241;43m*\u001b[39;49m\u001b[43margs\u001b[49m\u001b[43m,\u001b[49m\u001b[43m \u001b[49m\u001b[38;5;241;43m*\u001b[39;49m\u001b[38;5;241;43m*\u001b[39;49m\u001b[43mkwargs\u001b[49m\u001b[43m)\u001b[49m\n",
      "File \u001b[0;32m/opt/homebrew/anaconda3/lib/python3.10/site-packages/pandas/core/frame.py:6672\u001b[0m, in \u001b[0;36mDataFrame.drop_duplicates\u001b[0;34m(self, subset, keep, inplace, ignore_index)\u001b[0m\n\u001b[1;32m   6670\u001b[0m inplace \u001b[38;5;241m=\u001b[39m validate_bool_kwarg(inplace, \u001b[38;5;124m\"\u001b[39m\u001b[38;5;124minplace\u001b[39m\u001b[38;5;124m\"\u001b[39m)\n\u001b[1;32m   6671\u001b[0m ignore_index \u001b[38;5;241m=\u001b[39m validate_bool_kwarg(ignore_index, \u001b[38;5;124m\"\u001b[39m\u001b[38;5;124mignore_index\u001b[39m\u001b[38;5;124m\"\u001b[39m)\n\u001b[0;32m-> 6672\u001b[0m duplicated \u001b[38;5;241m=\u001b[39m \u001b[38;5;28;43mself\u001b[39;49m\u001b[38;5;241;43m.\u001b[39;49m\u001b[43mduplicated\u001b[49m\u001b[43m(\u001b[49m\u001b[43msubset\u001b[49m\u001b[43m,\u001b[49m\u001b[43m \u001b[49m\u001b[43mkeep\u001b[49m\u001b[38;5;241;43m=\u001b[39;49m\u001b[43mkeep\u001b[49m\u001b[43m)\u001b[49m\n\u001b[1;32m   6674\u001b[0m result \u001b[38;5;241m=\u001b[39m \u001b[38;5;28mself\u001b[39m[\u001b[38;5;241m-\u001b[39mduplicated]\n\u001b[1;32m   6675\u001b[0m \u001b[38;5;28;01mif\u001b[39;00m ignore_index:\n",
      "File \u001b[0;32m/opt/homebrew/anaconda3/lib/python3.10/site-packages/pandas/core/frame.py:6806\u001b[0m, in \u001b[0;36mDataFrame.duplicated\u001b[0;34m(self, subset, keep)\u001b[0m\n\u001b[1;32m   6804\u001b[0m diff \u001b[38;5;241m=\u001b[39m \u001b[38;5;28mset\u001b[39m(subset) \u001b[38;5;241m-\u001b[39m \u001b[38;5;28mset\u001b[39m(\u001b[38;5;28mself\u001b[39m\u001b[38;5;241m.\u001b[39mcolumns)\n\u001b[1;32m   6805\u001b[0m \u001b[38;5;28;01mif\u001b[39;00m diff:\n\u001b[0;32m-> 6806\u001b[0m     \u001b[38;5;28;01mraise\u001b[39;00m \u001b[38;5;167;01mKeyError\u001b[39;00m(Index(diff))\n\u001b[1;32m   6808\u001b[0m \u001b[38;5;28;01mif\u001b[39;00m \u001b[38;5;28mlen\u001b[39m(subset) \u001b[38;5;241m==\u001b[39m \u001b[38;5;241m1\u001b[39m \u001b[38;5;129;01mand\u001b[39;00m \u001b[38;5;28mself\u001b[39m\u001b[38;5;241m.\u001b[39mcolumns\u001b[38;5;241m.\u001b[39mis_unique:\n\u001b[1;32m   6809\u001b[0m     \u001b[38;5;66;03m# GH#45236 This is faster than get_group_index below\u001b[39;00m\n\u001b[1;32m   6810\u001b[0m     result \u001b[38;5;241m=\u001b[39m \u001b[38;5;28mself\u001b[39m[subset[\u001b[38;5;241m0\u001b[39m]]\u001b[38;5;241m.\u001b[39mduplicated(keep)\n",
      "\u001b[0;31mKeyError\u001b[0m: Index(['Coordinates'], dtype='object')"
     ]
    }
   ],
   "source": [
    "data = df.Y\n",
    "\n",
    "df_c = pd.DataFrame(data, index=index_values)\n",
    "\n",
    "# Create the 'Coordinates' column by combining index and 'Y' column values\n",
    "df['Coordinates'] = df.index.astype(str) + ', ' + df['Y'].astype(str)\n",
    "df.index = df['Coordinates']\n",
    "df = df.drop(columns=['Coordinates', 'Y'])\n",
    "\n",
    "# Group coordinates by the same city\n",
    "grouped = df.groupby('City')\n",
    "\n",
    "# Print the city and the number of unique coordinates in each group\n",
    "for city, group in grouped:\n",
    "    num_coordinates = len(group)\n",
    "    unique_group = group.drop_duplicates(subset=['Coordinates'])  # Change 'Y' to 'Coordinates'\n",
    "    num_unique_coordinates = len(unique_group)\n",
    "    \n",
    "    print(f\"City: {city}, Number of Unique Coordinates: {num_unique_coordinates}\")\n",
    "    print(unique_group)\n",
    "    print(\"--------------------------\")\n",
    "df.head()"
   ]
  },
  {
   "cell_type": "code",
   "execution_count": null,
   "id": "2928260e-b9c6-47bb-9186-702414ca0641",
   "metadata": {},
   "outputs": [],
   "source": [
    "df.value_counts()"
   ]
  },
  {
   "cell_type": "code",
   "execution_count": null,
   "id": "ef102ccc-cf02-4be8-b689-2039eb0dacea",
   "metadata": {},
   "outputs": [],
   "source": []
  },
  {
   "cell_type": "code",
   "execution_count": null,
   "id": "81308f40-6163-4a69-815b-cb84451eb194",
   "metadata": {},
   "outputs": [],
   "source": [
    "df2 = get_ev_data()"
   ]
  },
  {
   "cell_type": "code",
   "execution_count": null,
   "id": "0fd25771-9e05-42fc-a615-2255e70e9707",
   "metadata": {},
   "outputs": [],
   "source": [
    "city_list = df2.City.to_list()\n",
    "print(city_list)"
   ]
  },
  {
   "cell_type": "code",
   "execution_count": null,
   "id": "5d80451c-4710-470d-b59d-78509c7c2fd0",
   "metadata": {},
   "outputs": [],
   "source": [
    "cities = df2.groupby('City', as_index=False).first()\n",
    "\n",
    "cities = cities.drop(columns=['Y', 'Station_Name',\t'Street_Address',\t'ZIP',\t'ev_connector_types',\t'ev_network',\t'ev_network_web',\t'Level1_Plugs',\t'Level2_Plugs',\t'DCFC_Plugs',\t'Total_Plugs',\t'Level2',\n",
    "                     'DCFC',\t'Tesla',\t'recid',\t'ESRI_OID'])\n",
    "\n",
    "cities.nunique"
   ]
  },
  {
   "cell_type": "code",
   "execution_count": null,
   "id": "1e4935f0-2ebe-4656-a528-0bec9433071a",
   "metadata": {},
   "outputs": [],
   "source": [
    "df2 = get_ev_data()\n",
    "df2.head()"
   ]
  },
  {
   "cell_type": "code",
   "execution_count": null,
   "id": "33eae6b4-8a75-47cc-8dd1-d37e6962972b",
   "metadata": {},
   "outputs": [],
   "source": [
    "df2['sum_of_plugs'] = df2['Total_Plugs'].sum()\n",
    "df2['sum_of_plugs']"
   ]
  },
  {
   "cell_type": "code",
   "execution_count": null,
   "id": "399e6b97-c914-4a7b-9803-331f1364434e",
   "metadata": {},
   "outputs": [],
   "source": [
    "sns.barlpot(data = df2, x = cities, y = 'sum_of_plug')"
   ]
  },
  {
   "cell_type": "code",
   "execution_count": null,
   "id": "33cbe8cb-2aaf-4eef-a76d-63deb80961a3",
   "metadata": {},
   "outputs": [],
   "source": []
  },
  {
   "cell_type": "code",
   "execution_count": null,
   "id": "06e4bf76-10d6-43de-8878-1d570e1ff3af",
   "metadata": {},
   "outputs": [],
   "source": []
  },
  {
   "cell_type": "code",
   "execution_count": 33,
   "id": "615ca41b-fbdb-4d57-8ae1-331102299296",
   "metadata": {},
   "outputs": [
    {
     "data": {
      "image/png": "[encoded data removed]",
      "text/plain": [
       "<Figure size 800x600 with 1 Axes>"
      ]
     },
     "metadata": {},
     "output_type": "display_data"
    }
   ],
   "source": [
    "data = {\n",
    "    'Electric Vehicles in Texas': [200_000],\n",
    "    'Total Charge Point Stations': [2_763]\n",
    "}\n",
    "\n",
    "df = pd.DataFrame(data)\n",
    "\n",
    "\n",
    "ax = df.plot(kind='bar', figsize=(8, 6))\n",
    "ax.set_title('Electric Vehicles and Charge Point Stations in Texas')\n",
    "\n",
    "ax.spines['top'].set_visible(False)\n",
    "ax.spines['right'].set_visible(False)\n",
    "ax.spines['bottom'].set_visible(False)\n",
    "ax.spines['left'].set_visible(False)\n",
    "\n",
    "plt.xticks([])  # Empty list to remove x-axis ticks\n",
    "plt.yticks([])\n",
    "\n",
    "ax.tick_params(axis='y', length=0)\n",
    "\n",
    "for i, bar in enumerate(ax.patches):\n",
    "    value = df.iloc[0, i]  # Get the value from the DataFrame\n",
    "    height = bar.get_height()\n",
    "    x_pos = bar.get_x() + bar.get_width() / 2\n",
    "    y_pos = bar.get_y() + height + 5\n",
    "    \n",
    "    ax.annotate(f'{value:.0f}',  # Use the actual value from the DataFrame\n",
    "                xy=(x_pos, y_pos),\n",
    "                xytext=(0, 5),  # Adjust the vertical offset here\n",
    "                textcoords=\"offset points\",\n",
    "                ha='center', va='bottom', fontsize=10, color='black', weight='bold')\n",
    "\n",
    "plt.show()"
   ]
  }
 ],
 "metadata": {
  "kernelspec": {
   "display_name": "Python 3 (ipykernel)",
   "language": "python",
   "name": "python3"
  },
  "language_info": {
   "codemirror_mode": {
    "name": "ipython",
    "version": 3
   },
   "file_extension": ".py",
   "mimetype": "text/x-python",
   "name": "python",
   "nbconvert_exporter": "python",
   "pygments_lexer": "ipython3",
   "version": "3.10.9"
  }
 },
 "nbformat": 4,
 "nbformat_minor": 5
}
